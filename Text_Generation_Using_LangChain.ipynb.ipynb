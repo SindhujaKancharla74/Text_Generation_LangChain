{
 "cells": [
  {
   "cell_type": "code",
   "execution_count": null,
   "metadata": {
    "id": "p76ThSAo6WI7"
   },
   "outputs": [],
   "source": [
    "pip install langchain openai\n"
   ]
  },
  {
   "cell_type": "code",
   "execution_count": null,
   "metadata": {
    "id": "56_Gw1sn6ioV"
   },
   "outputs": [],
   "source": [
    "import langchain\n",
    "print(langchain.__version__)"
   ]
  },
  {
   "cell_type": "code",
   "execution_count": null,
   "metadata": {
    "id": "IMa3_96O6mBo"
   },
   "outputs": [],
   "source": [
    "pip install --upgrade langchain langchain-community"
   ]
  },
  {
   "cell_type": "code",
   "execution_count": null,
   "metadata": {
    "id": "qzJlOVhh6sBy"
   },
   "outputs": [],
   "source": [
    "from langchain_community.llms import OpenAI\n",
    "from langchain import PromptTemplate, LLMChain"
   ]
  },
  {
   "cell_type": "code",
   "execution_count": null,
   "metadata": {
    "id": "vEMYYEFp6ums"
   },
   "outputs": [],
   "source": [
    "pip install openai==0.28.0"
   ]
  },
  {
   "cell_type": "code",
   "execution_count": null,
   "metadata": {
    "id": "vQCwgyhG6z6m"
   },
   "outputs": [],
   "source": [
    "pip install --upgrade langchain openai\n"
   ]
  },
  {
   "cell_type": "code",
   "execution_count": null,
   "metadata": {
    "id": "55fbbM9K67FK"
   },
   "outputs": [],
   "source": [
    "from langchain_community.chat_models import ChatOpenAI\n",
    "from langchain import PromptTemplate, LLMChain\n",
    "import os\n",
    "\n",
    "# Set your OpenAI API key\n",
    "#os.environ[\"OPENAI_API_KEY\"] = \"Enter secret API key\"  # Replace with your actual API key\n",
    "\n",
    "# Initialize the ChatOpenAI LLM with gpt-3.5-turbo\n",
    "llm = ChatOpenAI(model_name=\"gpt-3.5-turbo\")  # Specify the chat model\n",
    "\n",
    "# Create a prompt template\n",
    "prompt_template = PromptTemplate(\n",
    "    input_variables=[\"input_text\"],\n",
    "    template=\"You are a helpful assistant. Respond to the following prompt: {input_text}\"\n",
    ")\n",
    "\n",
    "# Create an LLMChain with the LLM and prompt template\n",
    "chain = LLMChain(llm=llm, prompt=prompt_template)\n",
    "\n",
    "def generate_response(prompt):\n",
    "    # Ensure that you're using the correct method to generate a response\n",
    "    response = chain.run({\"input_text\": prompt})\n",
    "    return response\n",
    "\n",
    "# Main loop for user interaction\n",
    "if __name__ == \"__main__\":\n",
    "    print(\"Welcome to the LangChain text generator! Type 'exit' to quit.\")\n",
    "    while True:\n",
    "        user_input = input(\"\\nEnter a prompt: \")\n",
    "        if user_input.lower() == 'exit':\n",
    "            break\n",
    "        try:\n",
    "            generated_text = generate_response(user_input)\n",
    "            print(\"\\nGenerated Response:\")\n",
    "            print(generated_text)\n",
    "        except Exception as e:\n",
    "            print(f\"An error occurred: {e}\")\n"
   ]
  }
 ],
 "metadata": {
  "colab": {
   "provenance": []
  },
  "kernelspec": {
   "display_name": "Python 3",
   "name": "python3"
  },
  "language_info": {
   "name": "python"
  }
 },
 "nbformat": 4,
 "nbformat_minor": 0
}
